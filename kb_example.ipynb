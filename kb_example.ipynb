{
 "cells": [
  {
   "cell_type": "code",
   "execution_count": 1,
   "metadata": {},
   "outputs": [],
   "source": [
    "import pandas as pd\n",
    "import KnowledgeBase as KB"
   ]
  },
  {
   "cell_type": "markdown",
   "metadata": {},
   "source": [
    "___"
   ]
  },
  {
   "cell_type": "code",
   "execution_count": 2,
   "metadata": {},
   "outputs": [],
   "source": [
    "kb_dec = KB.KB_Dec('kb_dec.xlsx')\n",
    "kb_proc = KB.KB_Proc('kb_proc.xlsx')"
   ]
  },
  {
   "cell_type": "code",
   "execution_count": 3,
   "metadata": {},
   "outputs": [
    {
     "data": {
      "text/html": [
       "<div>\n",
       "<style scoped>\n",
       "    .dataframe tbody tr th:only-of-type {\n",
       "        vertical-align: middle;\n",
       "    }\n",
       "\n",
       "    .dataframe tbody tr th {\n",
       "        vertical-align: top;\n",
       "    }\n",
       "\n",
       "    .dataframe thead th {\n",
       "        text-align: right;\n",
       "    }\n",
       "</style>\n",
       "<table border=\"1\" class=\"dataframe\">\n",
       "  <thead>\n",
       "    <tr style=\"text-align: right;\">\n",
       "      <th></th>\n",
       "      <th>ID</th>\n",
       "      <th>First name</th>\n",
       "      <th>Last name</th>\n",
       "      <th>LOINC-NUM</th>\n",
       "      <th>Value</th>\n",
       "      <th>Unit</th>\n",
       "      <th>Transaction time</th>\n",
       "      <th>Valid start time</th>\n",
       "      <th>Valid stop time</th>\n",
       "      <th>Transaction stop time</th>\n",
       "    </tr>\n",
       "  </thead>\n",
       "  <tbody>\n",
       "    <tr>\n",
       "      <th>0</th>\n",
       "      <td>1</td>\n",
       "      <td>Avraham</td>\n",
       "      <td>Avraham</td>\n",
       "      <td>30313-1</td>\n",
       "      <td>8.5</td>\n",
       "      <td>gr/dl</td>\n",
       "      <td>22/05/2018 10:00</td>\n",
       "      <td>21/05/2018 15:00</td>\n",
       "      <td>NaN</td>\n",
       "      <td>NaN</td>\n",
       "    </tr>\n",
       "    <tr>\n",
       "      <th>1</th>\n",
       "      <td>1</td>\n",
       "      <td>Avraham</td>\n",
       "      <td>Avraham</td>\n",
       "      <td>11218-5</td>\n",
       "      <td>3000</td>\n",
       "      <td>cells/ml</td>\n",
       "      <td>22/05/2018 10:00</td>\n",
       "      <td>21/05/2018 15:00</td>\n",
       "      <td>NaN</td>\n",
       "      <td>NaN</td>\n",
       "    </tr>\n",
       "    <tr>\n",
       "      <th>2</th>\n",
       "      <td>1</td>\n",
       "      <td>Avraham</td>\n",
       "      <td>Avraham</td>\n",
       "      <td>39106-0</td>\n",
       "      <td>37.3</td>\n",
       "      <td>degrees-celsious</td>\n",
       "      <td>22/05/2018 10:00</td>\n",
       "      <td>21/05/2018 15:00</td>\n",
       "      <td>NaN</td>\n",
       "      <td>NaN</td>\n",
       "    </tr>\n",
       "    <tr>\n",
       "      <th>3</th>\n",
       "      <td>1</td>\n",
       "      <td>Avraham</td>\n",
       "      <td>Avraham</td>\n",
       "      <td>70423-9</td>\n",
       "      <td>None</td>\n",
       "      <td>none</td>\n",
       "      <td>22/05/2018 10:00</td>\n",
       "      <td>21/05/2018 15:00</td>\n",
       "      <td>NaN</td>\n",
       "      <td>NaN</td>\n",
       "    </tr>\n",
       "    <tr>\n",
       "      <th>4</th>\n",
       "      <td>1</td>\n",
       "      <td>Avraham</td>\n",
       "      <td>Avraham</td>\n",
       "      <td>39107-8</td>\n",
       "      <td>Erythema</td>\n",
       "      <td>none</td>\n",
       "      <td>22/05/2018 10:00</td>\n",
       "      <td>21/05/2018 15:00</td>\n",
       "      <td>NaN</td>\n",
       "      <td>NaN</td>\n",
       "    </tr>\n",
       "    <tr>\n",
       "      <th>5</th>\n",
       "      <td>1</td>\n",
       "      <td>Avraham</td>\n",
       "      <td>Avraham</td>\n",
       "      <td>00000-0</td>\n",
       "      <td>Edema</td>\n",
       "      <td>none</td>\n",
       "      <td>22/05/2018 10:00</td>\n",
       "      <td>21/05/2018 15:00</td>\n",
       "      <td>NaN</td>\n",
       "      <td>NaN</td>\n",
       "    </tr>\n",
       "    <tr>\n",
       "      <th>6</th>\n",
       "      <td>1</td>\n",
       "      <td>Avraham</td>\n",
       "      <td>Avraham</td>\n",
       "      <td>Gender</td>\n",
       "      <td>male</td>\n",
       "      <td>none</td>\n",
       "      <td>22/05/1992 11:00</td>\n",
       "      <td>21/05/1992 15:00</td>\n",
       "      <td>NaN</td>\n",
       "      <td>NaN</td>\n",
       "    </tr>\n",
       "  </tbody>\n",
       "</table>\n",
       "</div>"
      ],
      "text/plain": [
       "   ID First name Last name LOINC-NUM     Value              Unit  \\\n",
       "0   1    Avraham   Avraham   30313-1       8.5             gr/dl   \n",
       "1   1    Avraham   Avraham   11218-5      3000          cells/ml   \n",
       "2   1    Avraham   Avraham   39106-0      37.3  degrees-celsious   \n",
       "3   1    Avraham   Avraham   70423-9      None              none   \n",
       "4   1    Avraham   Avraham   39107-8  Erythema              none   \n",
       "5   1    Avraham   Avraham   00000-0     Edema              none   \n",
       "6   1    Avraham   Avraham    Gender      male              none   \n",
       "\n",
       "   Transaction time  Valid start time  Valid stop time  Transaction stop time  \n",
       "0  22/05/2018 10:00  21/05/2018 15:00              NaN                    NaN  \n",
       "1  22/05/2018 10:00  21/05/2018 15:00              NaN                    NaN  \n",
       "2  22/05/2018 10:00  21/05/2018 15:00              NaN                    NaN  \n",
       "3  22/05/2018 10:00  21/05/2018 15:00              NaN                    NaN  \n",
       "4  22/05/2018 10:00  21/05/2018 15:00              NaN                    NaN  \n",
       "5  22/05/2018 10:00  21/05/2018 15:00              NaN                    NaN  \n",
       "6  22/05/1992 11:00  21/05/1992 15:00              NaN                    NaN  "
      ]
     },
     "execution_count": 3,
     "metadata": {},
     "output_type": "execute_result"
    }
   ],
   "source": [
    "df = pd.read_csv('project_db_example.csv')\n",
    "df"
   ]
  },
  {
   "cell_type": "code",
   "execution_count": 4,
   "metadata": {},
   "outputs": [
    {
     "data": {
      "text/plain": [
       "'Hemoglobin [Mass/volume] in Arterial blood'"
      ]
     },
     "execution_count": 4,
     "metadata": {},
     "output_type": "execute_result"
    }
   ],
   "source": [
    "kb_dec.get_loinc_desc('30313-1')"
   ]
  },
  {
   "cell_type": "code",
   "execution_count": 5,
   "metadata": {},
   "outputs": [
    {
     "data": {
      "text/html": [
       "<div>\n",
       "<style scoped>\n",
       "    .dataframe tbody tr th:only-of-type {\n",
       "        vertical-align: middle;\n",
       "    }\n",
       "\n",
       "    .dataframe tbody tr th {\n",
       "        vertical-align: top;\n",
       "    }\n",
       "\n",
       "    .dataframe thead th {\n",
       "        text-align: right;\n",
       "    }\n",
       "</style>\n",
       "<table border=\"1\" class=\"dataframe\">\n",
       "  <thead>\n",
       "    <tr style=\"text-align: right;\">\n",
       "      <th></th>\n",
       "      <th>LOINC-NUM</th>\n",
       "      <th>LONG_COMMON_NAME</th>\n",
       "    </tr>\n",
       "  </thead>\n",
       "  <tbody>\n",
       "    <tr>\n",
       "      <th>0</th>\n",
       "      <td>30313-1</td>\n",
       "      <td>Hemoglobin [Mass/volume] in Arterial blood</td>\n",
       "    </tr>\n",
       "    <tr>\n",
       "      <th>1</th>\n",
       "      <td>11218-5</td>\n",
       "      <td>Microalbumin [Mass/volume] in Urine by Test strip</td>\n",
       "    </tr>\n",
       "    <tr>\n",
       "      <th>2</th>\n",
       "      <td>39106-0</td>\n",
       "      <td>Temperature of Skin</td>\n",
       "    </tr>\n",
       "    <tr>\n",
       "      <th>3</th>\n",
       "      <td>70423-9</td>\n",
       "      <td>Chills State</td>\n",
       "    </tr>\n",
       "    <tr>\n",
       "      <th>4</th>\n",
       "      <td>39107-8</td>\n",
       "      <td>Color of Skin</td>\n",
       "    </tr>\n",
       "    <tr>\n",
       "      <th>5</th>\n",
       "      <td>00000-0</td>\n",
       "      <td>Allergic State</td>\n",
       "    </tr>\n",
       "  </tbody>\n",
       "</table>\n",
       "</div>"
      ],
      "text/plain": [
       "  LOINC-NUM                                   LONG_COMMON_NAME\n",
       "0   30313-1         Hemoglobin [Mass/volume] in Arterial blood\n",
       "1   11218-5  Microalbumin [Mass/volume] in Urine by Test strip\n",
       "2   39106-0                                Temperature of Skin\n",
       "3   70423-9                                       Chills State\n",
       "4   39107-8                                      Color of Skin\n",
       "5   00000-0                                     Allergic State"
      ]
     },
     "execution_count": 5,
     "metadata": {},
     "output_type": "execute_result"
    }
   ],
   "source": [
    "kb_dec.get_full_loinc_desc()"
   ]
  },
  {
   "cell_type": "code",
   "execution_count": 6,
   "metadata": {},
   "outputs": [
    {
     "data": {
      "text/plain": [
       "'Hemoglobin State'"
      ]
     },
     "execution_count": 6,
     "metadata": {},
     "output_type": "execute_result"
    }
   ],
   "source": [
    "kb_dec.get_states('CCTG000')"
   ]
  },
  {
   "cell_type": "code",
   "execution_count": 7,
   "metadata": {},
   "outputs": [
    {
     "data": {
      "text/html": [
       "<div>\n",
       "<style scoped>\n",
       "    .dataframe tbody tr th:only-of-type {\n",
       "        vertical-align: middle;\n",
       "    }\n",
       "\n",
       "    .dataframe tbody tr th {\n",
       "        vertical-align: top;\n",
       "    }\n",
       "\n",
       "    .dataframe thead th {\n",
       "        text-align: right;\n",
       "    }\n",
       "</style>\n",
       "<table border=\"1\" class=\"dataframe\">\n",
       "  <thead>\n",
       "    <tr style=\"text-align: right;\">\n",
       "      <th></th>\n",
       "      <th>Therapy_Code</th>\n",
       "      <th>Therapy_desc</th>\n",
       "    </tr>\n",
       "  </thead>\n",
       "  <tbody>\n",
       "    <tr>\n",
       "      <th>0</th>\n",
       "      <td>CCTG000</td>\n",
       "      <td>Hemoglobin State</td>\n",
       "    </tr>\n",
       "    <tr>\n",
       "      <th>1</th>\n",
       "      <td>CCTG001</td>\n",
       "      <td>Hemoglobin State</td>\n",
       "    </tr>\n",
       "    <tr>\n",
       "      <th>2</th>\n",
       "      <td>CCTG002</td>\n",
       "      <td>Hematological State</td>\n",
       "    </tr>\n",
       "    <tr>\n",
       "      <th>3</th>\n",
       "      <td>CCTG003</td>\n",
       "      <td>Hematological State</td>\n",
       "    </tr>\n",
       "    <tr>\n",
       "      <th>4</th>\n",
       "      <td>CCTG522</td>\n",
       "      <td>Systematic Toxicity</td>\n",
       "    </tr>\n",
       "  </tbody>\n",
       "</table>\n",
       "</div>"
      ],
      "text/plain": [
       "  Therapy_Code         Therapy_desc\n",
       "0      CCTG000     Hemoglobin State\n",
       "1      CCTG001     Hemoglobin State\n",
       "2      CCTG002  Hematological State\n",
       "3      CCTG003  Hematological State\n",
       "4      CCTG522  Systematic Toxicity"
      ]
     },
     "execution_count": 7,
     "metadata": {},
     "output_type": "execute_result"
    }
   ],
   "source": [
    "kb_dec.get_full_states()"
   ]
  },
  {
   "cell_type": "code",
   "execution_count": 4,
   "metadata": {},
   "outputs": [
    {
     "data": {
      "text/plain": [
       "(Timedelta('2 days 00:00:00'), Timedelta('2 days 00:00:00'))"
      ]
     },
     "execution_count": 4,
     "metadata": {},
     "output_type": "execute_result"
    }
   ],
   "source": [
    "kb_dec.get_best_before('30313-1')"
   ]
  },
  {
   "cell_type": "code",
   "execution_count": 10,
   "metadata": {},
   "outputs": [
    {
     "name": "stderr",
     "output_type": "stream",
     "text": [
      "c:\\Users\\yonat\\OneDrive\\master\\CDSS\\Project\\CDSS\\KnowledgeBase.py:39: SettingWithCopyWarning: \n",
      "A value is trying to be set on a copy of a slice from a DataFrame.\n",
      "Try using .loc[row_indexer,col_indexer] = value instead\n",
      "\n",
      "See the caveats in the documentation: https://pandas.pydata.org/pandas-docs/stable/user_guide/indexing.html#returning-a-view-versus-a-copy\n",
      "  df_db['Value'] = pd.to_numeric(df_db['Value'],errors='coerce').fillna(df_db['Value']).tolist()\n"
     ]
    },
    {
     "data": {
      "text/html": [
       "<div>\n",
       "<style scoped>\n",
       "    .dataframe tbody tr th:only-of-type {\n",
       "        vertical-align: middle;\n",
       "    }\n",
       "\n",
       "    .dataframe tbody tr th {\n",
       "        vertical-align: top;\n",
       "    }\n",
       "\n",
       "    .dataframe thead th {\n",
       "        text-align: right;\n",
       "    }\n",
       "</style>\n",
       "<table border=\"1\" class=\"dataframe\">\n",
       "  <thead>\n",
       "    <tr style=\"text-align: right;\">\n",
       "      <th></th>\n",
       "      <th>LOINC-NUM</th>\n",
       "      <th>Value</th>\n",
       "    </tr>\n",
       "  </thead>\n",
       "  <tbody>\n",
       "    <tr>\n",
       "      <th>0</th>\n",
       "      <td>30313-1</td>\n",
       "      <td>8.5</td>\n",
       "    </tr>\n",
       "    <tr>\n",
       "      <th>1</th>\n",
       "      <td>11218-5</td>\n",
       "      <td>3000.0</td>\n",
       "    </tr>\n",
       "    <tr>\n",
       "      <th>2</th>\n",
       "      <td>39106-0</td>\n",
       "      <td>37.3</td>\n",
       "    </tr>\n",
       "    <tr>\n",
       "      <th>3</th>\n",
       "      <td>70423-9</td>\n",
       "      <td>None</td>\n",
       "    </tr>\n",
       "    <tr>\n",
       "      <th>4</th>\n",
       "      <td>39107-8</td>\n",
       "      <td>Erythema</td>\n",
       "    </tr>\n",
       "    <tr>\n",
       "      <th>5</th>\n",
       "      <td>00000-0</td>\n",
       "      <td>Edema</td>\n",
       "    </tr>\n",
       "    <tr>\n",
       "      <th>6</th>\n",
       "      <td>Gender</td>\n",
       "      <td>male</td>\n",
       "    </tr>\n",
       "    <tr>\n",
       "      <th>7</th>\n",
       "      <td>CCTG000</td>\n",
       "      <td>moderate_anemia</td>\n",
       "    </tr>\n",
       "    <tr>\n",
       "      <th>8</th>\n",
       "      <td>CCTG001</td>\n",
       "      <td>severe_anemia</td>\n",
       "    </tr>\n",
       "    <tr>\n",
       "      <th>9</th>\n",
       "      <td>CCTG002</td>\n",
       "      <td>pancytopenia</td>\n",
       "    </tr>\n",
       "    <tr>\n",
       "      <th>10</th>\n",
       "      <td>CCTG003</td>\n",
       "      <td>pancytopenia</td>\n",
       "    </tr>\n",
       "    <tr>\n",
       "      <th>11</th>\n",
       "      <td>CCTG522</td>\n",
       "      <td>1</td>\n",
       "    </tr>\n",
       "  </tbody>\n",
       "</table>\n",
       "</div>"
      ],
      "text/plain": [
       "   LOINC-NUM            Value\n",
       "0    30313-1              8.5\n",
       "1    11218-5           3000.0\n",
       "2    39106-0             37.3\n",
       "3    70423-9             None\n",
       "4    39107-8         Erythema\n",
       "5    00000-0            Edema\n",
       "6     Gender             male\n",
       "7    CCTG000  moderate_anemia\n",
       "8    CCTG001    severe_anemia\n",
       "9    CCTG002     pancytopenia\n",
       "10   CCTG003     pancytopenia\n",
       "11   CCTG522                1"
      ]
     },
     "execution_count": 10,
     "metadata": {},
     "output_type": "execute_result"
    }
   ],
   "source": [
    "df_db_inf = kb_dec.inference_dec(df[['LOINC-NUM', 'Value']])\n",
    "df_db_inf"
   ]
  },
  {
   "cell_type": "code",
   "execution_count": 12,
   "metadata": {},
   "outputs": [
    {
     "data": {
      "text/html": [
       "<div>\n",
       "<style scoped>\n",
       "    .dataframe tbody tr th:only-of-type {\n",
       "        vertical-align: middle;\n",
       "    }\n",
       "\n",
       "    .dataframe tbody tr th {\n",
       "        vertical-align: top;\n",
       "    }\n",
       "\n",
       "    .dataframe thead th {\n",
       "        text-align: right;\n",
       "    }\n",
       "</style>\n",
       "<table border=\"1\" class=\"dataframe\">\n",
       "  <thead>\n",
       "    <tr style=\"text-align: right;\">\n",
       "      <th></th>\n",
       "      <th>protocol_code</th>\n",
       "      <th>action_code</th>\n",
       "      <th>action_type</th>\n",
       "      <th>time_units</th>\n",
       "      <th>time_value</th>\n",
       "      <th>quant</th>\n",
       "      <th>dose</th>\n",
       "      <th>units</th>\n",
       "    </tr>\n",
       "  </thead>\n",
       "  <tbody>\n",
       "    <tr>\n",
       "      <th>0</th>\n",
       "      <td>1234-1</td>\n",
       "      <td>bp</td>\n",
       "      <td>recurrent</td>\n",
       "      <td>week</td>\n",
       "      <td>1.0</td>\n",
       "      <td>1.0</td>\n",
       "      <td>NaN</td>\n",
       "      <td>NaN</td>\n",
       "    </tr>\n",
       "  </tbody>\n",
       "</table>\n",
       "</div>"
      ],
      "text/plain": [
       "  protocol_code action_code action_type time_units  time_value  quant  dose  \\\n",
       "0        1234-1          bp   recurrent       week         1.0    1.0   NaN   \n",
       "\n",
       "  units  \n",
       "0   NaN  "
      ]
     },
     "execution_count": 12,
     "metadata": {},
     "output_type": "execute_result"
    }
   ],
   "source": [
    "protocol_code = kb_proc.inference_proc(df_db_inf)\n",
    "kb_proc.get_protocol(protocol_code)"
   ]
  },
  {
   "cell_type": "markdown",
   "metadata": {},
   "source": [
    "___"
   ]
  },
  {
   "cell_type": "code",
   "execution_count": 13,
   "metadata": {},
   "outputs": [
    {
     "name": "stderr",
     "output_type": "stream",
     "text": [
      "c:\\Users\\yonat\\OneDrive\\master\\CDSS\\Project\\CDSS\\KnowledgeBase.py:39: SettingWithCopyWarning: \n",
      "A value is trying to be set on a copy of a slice from a DataFrame.\n",
      "Try using .loc[row_indexer,col_indexer] = value instead\n",
      "\n",
      "See the caveats in the documentation: https://pandas.pydata.org/pandas-docs/stable/user_guide/indexing.html#returning-a-view-versus-a-copy\n",
      "  df_db['Value'] = pd.to_numeric(df_db['Value'],errors='coerce').fillna(df_db['Value']).tolist()\n"
     ]
    },
    {
     "data": {
      "text/html": [
       "<div>\n",
       "<style scoped>\n",
       "    .dataframe tbody tr th:only-of-type {\n",
       "        vertical-align: middle;\n",
       "    }\n",
       "\n",
       "    .dataframe tbody tr th {\n",
       "        vertical-align: top;\n",
       "    }\n",
       "\n",
       "    .dataframe thead th {\n",
       "        text-align: right;\n",
       "    }\n",
       "</style>\n",
       "<table border=\"1\" class=\"dataframe\">\n",
       "  <thead>\n",
       "    <tr style=\"text-align: right;\">\n",
       "      <th></th>\n",
       "      <th>protocol_code</th>\n",
       "      <th>action_code</th>\n",
       "      <th>action_type</th>\n",
       "      <th>time_units</th>\n",
       "      <th>time_value</th>\n",
       "      <th>quant</th>\n",
       "      <th>dose</th>\n",
       "      <th>units</th>\n",
       "    </tr>\n",
       "  </thead>\n",
       "  <tbody>\n",
       "    <tr>\n",
       "      <th>0</th>\n",
       "      <td>1234-1</td>\n",
       "      <td>bp</td>\n",
       "      <td>recurrent</td>\n",
       "      <td>week</td>\n",
       "      <td>1.0</td>\n",
       "      <td>1.0</td>\n",
       "      <td>NaN</td>\n",
       "      <td>NaN</td>\n",
       "    </tr>\n",
       "  </tbody>\n",
       "</table>\n",
       "</div>"
      ],
      "text/plain": [
       "  protocol_code action_code action_type time_units  time_value  quant  dose  \\\n",
       "0        1234-1          bp   recurrent       week         1.0    1.0   NaN   \n",
       "\n",
       "  units  \n",
       "0   NaN  "
      ]
     },
     "execution_count": 13,
     "metadata": {},
     "output_type": "execute_result"
    }
   ],
   "source": [
    "kb = KB.KB('kb_dec.xlsx', 'kb_proc.xlsx')\n",
    "kb.kb_dec.get_best_before(df)\n",
    "\n",
    "df_db_inf = kb.kb_dec.inference_dec(df[['LOINC-NUM', 'Value']])\n",
    "protocol_code = kb.kb_proc.inference_proc(df_db_inf)\n",
    "kb.kb_proc.get_protocol(protocol_code)"
   ]
  },
  {
   "cell_type": "code",
   "execution_count": 14,
   "metadata": {},
   "outputs": [
    {
     "data": {
      "text/html": [
       "<div>\n",
       "<style scoped>\n",
       "    .dataframe tbody tr th:only-of-type {\n",
       "        vertical-align: middle;\n",
       "    }\n",
       "\n",
       "    .dataframe tbody tr th {\n",
       "        vertical-align: top;\n",
       "    }\n",
       "\n",
       "    .dataframe thead th {\n",
       "        text-align: right;\n",
       "    }\n",
       "</style>\n",
       "<table border=\"1\" class=\"dataframe\">\n",
       "  <thead>\n",
       "    <tr style=\"text-align: right;\">\n",
       "      <th></th>\n",
       "      <th>protocol_code</th>\n",
       "      <th>action_code</th>\n",
       "      <th>action_type</th>\n",
       "      <th>time_units</th>\n",
       "      <th>time_value</th>\n",
       "      <th>quant</th>\n",
       "      <th>dose</th>\n",
       "      <th>units</th>\n",
       "    </tr>\n",
       "  </thead>\n",
       "  <tbody>\n",
       "    <tr>\n",
       "      <th>0</th>\n",
       "      <td>1234-1</td>\n",
       "      <td>bp</td>\n",
       "      <td>recurrent</td>\n",
       "      <td>week</td>\n",
       "      <td>1.0</td>\n",
       "      <td>1.0</td>\n",
       "      <td>NaN</td>\n",
       "      <td>NaN</td>\n",
       "    </tr>\n",
       "  </tbody>\n",
       "</table>\n",
       "</div>"
      ],
      "text/plain": [
       "  protocol_code action_code action_type time_units  time_value  quant  dose  \\\n",
       "0        1234-1          bp   recurrent       week         1.0    1.0   NaN   \n",
       "\n",
       "  units  \n",
       "0   NaN  "
      ]
     },
     "execution_count": 14,
     "metadata": {},
     "output_type": "execute_result"
    }
   ],
   "source": [
    "\n",
    "kb.inference_protocol(df)"
   ]
  },
  {
   "cell_type": "code",
   "execution_count": null,
   "metadata": {},
   "outputs": [],
   "source": []
  }
 ],
 "metadata": {
  "kernelspec": {
   "display_name": "base",
   "language": "python",
   "name": "python3"
  },
  "language_info": {
   "codemirror_mode": {
    "name": "ipython",
    "version": 3
   },
   "file_extension": ".py",
   "mimetype": "text/x-python",
   "name": "python",
   "nbconvert_exporter": "python",
   "pygments_lexer": "ipython3",
   "version": "3.8.16"
  },
  "orig_nbformat": 4
 },
 "nbformat": 4,
 "nbformat_minor": 2
}
